{
 "cells": [
  {
   "cell_type": "code",
   "execution_count": 4,
   "id": "d01c9425",
   "metadata": {},
   "outputs": [
    {
     "name": "stdout",
     "output_type": "stream",
     "text": [
      "200\n"
     ]
    }
   ],
   "source": [
    "import requests\n",
    "from bs4 import BeautifulSoup\n",
    "url=\"https://www.amazon.in/One94store-Moon-Lamp-Rechargeable-Valentine/product-reviews/B09S3PLGL8/ref=cm_cr_dp_d_show_all_btm?ie=UTF8&reviewerType=all_reviews\"\n",
    "page=requests.get(url)\n",
    "print(page.status_code)"
   ]
  },
  {
   "cell_type": "code",
   "execution_count": null,
   "id": "8cbf7b98",
   "metadata": {},
   "outputs": [],
   "source": [
    "\n"
   ]
  },
  {
   "cell_type": "code",
   "execution_count": 7,
   "id": "4fbaf6d3",
   "metadata": {},
   "outputs": [],
   "source": [
    "soup=BeautifulSoup(page.content,\"html.parser\")\n",
    "\n"
   ]
  },
  {
   "cell_type": "code",
   "execution_count": null,
   "id": "8800a689",
   "metadata": {},
   "outputs": [],
   "source": [
    "\n"
   ]
  },
  {
   "cell_type": "code",
   "execution_count": 5,
   "id": "5868d6e8",
   "metadata": {},
   "outputs": [
    {
     "name": "stdout",
     "output_type": "stream",
     "text": [
      "[<div class=\"a-row a-spacing-none\" id=\"R2I6Y1QM445FSE-review-card\"><div class=\"a-section celwidget\" id=\"customer_review-R2I6Y1QM445FSE\"><div class=\"a-row a-spacing-mini\" data-hook=\"genome-widget\"><a class=\"a-profile\" data-a-size=\"small\" href=\"/gp/profile/amzn1.account.AFEYAVWVN4OPHKTHZ4VPZZKTY36Q\"><div aria-hidden=\"true\" class=\"a-profile-avatar-wrapper\"><div class=\"a-profile-avatar\"><img class=\"a-lazy-loaded\" data-src=\"https://images-eu.ssl-images-amazon.com/images/S/amazon-avatars-global/default._CR0,0,1024,1024_SX48_.png\" src=\"https://images-na.ssl-images-amazon.com/images/G/01/x-locale/common/grey-pixel.gif\"/><noscript><img src=\"https://images-eu.ssl-images-amazon.com/images/S/amazon-avatars-global/default._CR0,0,1024,1024_SX48_.png\"/></noscript></div></div><div class=\"a-profile-content\"><span class=\"a-profile-name\">AP</span></div></a></div><div class=\"a-row\"><a class=\"a-link-normal\" href=\"/gp/customer-reviews/R2I6Y1QM445FSE?ASIN=B09S3PLGL8\" title=\"4.0 out of 5 stars\"><i class=\"a-icon a-icon-star a-star-4 review-rating\" data-hook=\"review-star-rating\"><span class=\"a-icon-alt\">4.0 out of 5 stars</span></i></a><span class=\"a-letter-space\"></span><a class=\"a-size-base a-link-normal review-title a-color-base review-title-content a-text-bold\" data-hook=\"review-title\" href=\"/gp/customer-reviews/R2I6Y1QM445FSE?ASIN=B09S3PLGL8\">\n",
      "<span>Nice</span>\n",
      "</a></div><span class=\"a-size-base a-color-secondary review-date\" data-hook=\"review-date\">Reviewed in India on 5 August 2022</span><div class=\"a-row a-spacing-mini review-data review-format-strip\"><a class=\"a-size-mini a-link-normal a-color-secondary\" data-hook=\"format-strip\" href=\"/One94store-Moon-Lamp-Rechargeable-Valentine/product-reviews/B09SDFK8MN?formatType=current_format\">Color Name: Galaxy Moon Lamp</a><i aria-label=\"|\" class=\"a-icon a-icon-text-separator\" role=\"img\"></i><span class=\"a-declarative\" data-action=\"reviews:filter-action:push-state\" data-csa-c-func-deps=\"aui-da-reviews:filter-action:push-state\" data-csa-c-type=\"widget\" data-reviews:filter-action:push-state=\"{}\"><a class=\"a-link-normal\" data-reftag=\"cm_cr_arp_d_rvw_rvwer\" data-reviews-state-param='{\"pageNumber\":\"1\",\"reviewerType\":\"avp_only_reviews\"}' href=\"/One94store-Moon-Lamp-Rechargeable-Valentine/product-reviews/B09S3PLGL8?reviewerType=avp_only_reviews\"><span class=\"a-size-mini a-color-state a-text-bold\" data-hook=\"avp-badge\">Verified Purchase</span></a></span></div><div class=\"a-row a-spacing-small review-data\"><span class=\"a-size-base review-text review-text-content\" data-hook=\"review-body\">\n",
      "<span>Quite bright and well built. It does not have touch sensor as it says it does but not bothering with it. My Remote for other LEDs work even for this so I don't have to bother to keep looking for 4-5 remotes.</span>\n",
      "</span></div><div class=\"a-row review-comments comments-for-R2I6Y1QM445FSE\"><div class=\"a-row a-expander-container a-expander-inline-container cr-vote-action-bar\" data-a-expander-name=\"review_comment_expander\" data-reftag=\"cm_cr_arp_d_cmt_opn\"><span class=\"cr-vote\" data-hook=\"review-voting-widget\">\n",
      "<div class=\"cr-helpful-button aok-float-left\">\n",
      "<span class=\"a-button a-button-base\"><span class=\"a-button-inner\"><a class=\"a-button-text\" data-hook=\"vote-helpful-button\" href=\"https://www.amazon.in/ap/signin?openid.return_to=https%3A%2F%2Fwww.amazon.in%2FOne94store-Moon-Lamp-Rechargeable-Valentine%2Fproduct-reviews%2FB09S3PLGL8%3FreviewerType%3Dall_reviews%26csrfT%3DhLv1uhykK42pZQKLTxsugjG7b%252Bk6odvsgY%252FUNJuBP2llAAAAAGMUcdcAAAAB%26reviewId%3DR2I6Y1QM445FSE&amp;openid.identity=http%3A%2F%2Fspecs.openid.net%2Fauth%2F2.0%2Fidentifier_select&amp;openid.assoc_handle=inflex&amp;openid.mode=checkid_setup&amp;marketPlaceId=A21TJRUUN4KGV&amp;language=en&amp;openid.claimed_id=http%3A%2F%2Fspecs.openid.net%2Fauth%2F2.0%2Fidentifier_select&amp;openid.ns=http%3A%2F%2Fspecs.openid.net%2Fauth%2F2.0\"><div class=\"cr-helpful-text\">\n",
      "          Helpful</div>\n",
      "</a></span></span></div>\n",
      "</span><span class=\"cr-footer-line-height\">\n",
      "<span><i aria-label=\"|\" class=\"a-icon a-icon-text-separator\" role=\"img\"></i><span class=\"a-declarative\" data-action=\"cr-popup\" data-cr-popup='{\"width\":\"580\",\"title\":\"ReportAbuse\",\"url\":\"/hz/reviews-render/report-review?ref=cm_cr_arp_d_rvw_hlp&amp;csrfT=hLv1uhykK42pZQKLTxsugjG7b%2Bk6odvsgY%2FUNJuBP2llAAAAAGMUcdcAAAAB&amp;reviewId=R2I6Y1QM445FSE\",\"height\":\"380\"}' data-csa-c-func-deps=\"aui-da-cr-popup\" data-csa-c-type=\"widget\"><a class=\"a-size-base a-link-normal a-color-secondary report-abuse-link a-text-normal\" href=\"/hz/reviews-render/report-review?ref=cm_cr_arp_d_rvw_hlp&amp;csrfT=hLv1uhykK42pZQKLTxsugjG7b%2Bk6odvsgY%2FUNJuBP2llAAAAAGMUcdcAAAAB&amp;reviewId=R2I6Y1QM445FSE\">Report abuse</a></span></span></span>\n",
      "<div aria-expanded=\"false\" class=\"a-expander-content a-spacing-top-base a-spacing-large a-expander-inline-content a-expander-inner\" style=\"display:none\"><div class=\"a-row a-spacing-mini review-comments-header aok-hidden\"><ul class=\"a-viewoptions-list a-viewoptions-section a-span12\">\n",
      "<div class=\"a-row a-spacing-none a-grid-vertical-align a-grid-center\"><div class=\"a-column a-span6\"><span class=\"a-size-base a-viewoptions-list-label\">Showing <span class=\"review-comment-count\">0</span> comments</span></div></div></ul>\n",
      "</div><div class=\"a-section a-spacing-extra-large a-spacing-top-medium a-text-center comment-load-error aok-hidden\"><div class=\"a-box a-alert a-alert-error cr-error\" role=\"alert\"><div class=\"a-box-inner a-alert-container\"><h4 class=\"a-alert-heading\">There was a problem loading comments right now. Please try again later.</h4><i class=\"a-icon a-icon-alert\"></i><div class=\"a-alert-content\"></div></div></div></div><div class=\"a-section a-spacing-none review-comments\"></div><div class=\"a-spinner-wrapper comment-loading aok-hidden a-spacing-top-medium a-spacing-extra-large\"><span class=\"a-spinner a-spinner-medium\"></span></div><hr aria-hidden=\"true\" class=\"a-spacing-none a-spacing-top-large a-divider-normal\"/></div></div></div></div></div>]\n"
     ]
    }
   ],
   "source": [
    "container=soup.find_all(id=\"R2I6Y1QM445FSE-review-card\")\n",
    "print(container)"
   ]
  },
  {
   "cell_type": "code",
   "execution_count": 6,
   "id": "f25e72d8",
   "metadata": {
    "scrolled": true
   },
   "outputs": [
    {
     "name": "stdout",
     "output_type": "stream",
     "text": [
      "Rosy\n",
      "Cherry\n",
      "Cherry\n",
      "Yash\n",
      "Amazon customer..\n",
      "Komal thakur\n",
      "Rosy\n",
      "SIMA BEGAM\n",
      "Subrahmanyam Nilla\n",
      "AP\n",
      "Riddhi\n",
      "Anil Johney\n"
     ]
    }
   ],
   "source": [
    "name=soup.find_all(class_=\"a-profile-name\")\n",
    "for n in name:\n",
    "    print(n.text)"
   ]
  },
  {
   "cell_type": "code",
   "execution_count": 7,
   "id": "a3117d4c",
   "metadata": {},
   "outputs": [
    {
     "data": {
      "text/plain": [
       "['Rosy',\n",
       " 'Cherry',\n",
       " 'Cherry',\n",
       " 'Yash',\n",
       " 'Amazon customer..',\n",
       " 'Komal thakur',\n",
       " 'Rosy',\n",
       " 'SIMA BEGAM',\n",
       " 'Subrahmanyam Nilla',\n",
       " 'AP',\n",
       " 'Riddhi',\n",
       " 'Anil Johney']"
      ]
     },
     "execution_count": 7,
     "metadata": {},
     "output_type": "execute_result"
    }
   ],
   "source": [
    "cust_name = []\n",
    "for i in range(0, len(name)):\n",
    "    cust_name.append(name[i].get_text())\n",
    "\n",
    "cust_name"
   ]
  },
  {
   "cell_type": "code",
   "execution_count": 8,
   "id": "6de3ed9b",
   "metadata": {},
   "outputs": [
    {
     "data": {
      "text/plain": [
       "'Rosy'"
      ]
     },
     "execution_count": 8,
     "metadata": {},
     "output_type": "execute_result"
    }
   ],
   "source": [
    "cust_name.pop(0)"
   ]
  },
  {
   "cell_type": "code",
   "execution_count": 9,
   "id": "4c0a3cbe",
   "metadata": {},
   "outputs": [
    {
     "data": {
      "text/plain": [
       "'Cherry'"
      ]
     },
     "execution_count": 9,
     "metadata": {},
     "output_type": "execute_result"
    }
   ],
   "source": [
    "cust_name.pop(0)"
   ]
  },
  {
   "cell_type": "code",
   "execution_count": 10,
   "id": "7c75d2bc",
   "metadata": {},
   "outputs": [
    {
     "data": {
      "text/html": [
       "<div>\n",
       "<style scoped>\n",
       "    .dataframe tbody tr th:only-of-type {\n",
       "        vertical-align: middle;\n",
       "    }\n",
       "\n",
       "    .dataframe tbody tr th {\n",
       "        vertical-align: top;\n",
       "    }\n",
       "\n",
       "    .dataframe thead th {\n",
       "        text-align: right;\n",
       "    }\n",
       "</style>\n",
       "<table border=\"1\" class=\"dataframe\">\n",
       "  <thead>\n",
       "    <tr style=\"text-align: right;\">\n",
       "      <th></th>\n",
       "      <th>Name</th>\n",
       "    </tr>\n",
       "  </thead>\n",
       "  <tbody>\n",
       "    <tr>\n",
       "      <th>0</th>\n",
       "      <td>Cherry</td>\n",
       "    </tr>\n",
       "    <tr>\n",
       "      <th>1</th>\n",
       "      <td>Yash</td>\n",
       "    </tr>\n",
       "    <tr>\n",
       "      <th>2</th>\n",
       "      <td>Amazon customer..</td>\n",
       "    </tr>\n",
       "    <tr>\n",
       "      <th>3</th>\n",
       "      <td>Komal thakur</td>\n",
       "    </tr>\n",
       "    <tr>\n",
       "      <th>4</th>\n",
       "      <td>Rosy</td>\n",
       "    </tr>\n",
       "    <tr>\n",
       "      <th>5</th>\n",
       "      <td>SIMA BEGAM</td>\n",
       "    </tr>\n",
       "    <tr>\n",
       "      <th>6</th>\n",
       "      <td>Subrahmanyam Nilla</td>\n",
       "    </tr>\n",
       "    <tr>\n",
       "      <th>7</th>\n",
       "      <td>AP</td>\n",
       "    </tr>\n",
       "    <tr>\n",
       "      <th>8</th>\n",
       "      <td>Riddhi</td>\n",
       "    </tr>\n",
       "    <tr>\n",
       "      <th>9</th>\n",
       "      <td>Anil Johney</td>\n",
       "    </tr>\n",
       "  </tbody>\n",
       "</table>\n",
       "</div>"
      ],
      "text/plain": [
       "                 Name\n",
       "0              Cherry\n",
       "1                Yash\n",
       "2   Amazon customer..\n",
       "3        Komal thakur\n",
       "4                Rosy\n",
       "5          SIMA BEGAM\n",
       "6  Subrahmanyam Nilla\n",
       "7                  AP\n",
       "8              Riddhi\n",
       "9         Anil Johney"
      ]
     },
     "execution_count": 10,
     "metadata": {},
     "output_type": "execute_result"
    }
   ],
   "source": [
    "import pandas as pd\n",
    "df=pd.DataFrame()\n",
    "df['Name']=cust_name\n",
    "df"
   ]
  },
  {
   "cell_type": "code",
   "execution_count": 11,
   "id": "e3108c3f",
   "metadata": {},
   "outputs": [],
   "source": [
    "main=soup.find_all(class_=\"a-size-base a-link-normal review-title a-color-base review-title-content a-text-bold\")"
   ]
  },
  {
   "cell_type": "code",
   "execution_count": 12,
   "id": "fb763aa2",
   "metadata": {},
   "outputs": [
    {
     "data": {
      "text/plain": [
       "['\\ngood but charging port in wrong face\\n',\n",
       " '\\nThe lil cable for “ charging “ it’s not working !\\n',\n",
       " '\\nGood for home usage\\n',\n",
       " '\\nGood\\n',\n",
       " '\\nOkayish\\n',\n",
       " '\\nEasy to use with awesome look\\n',\n",
       " '\\nTouch is not working\\n',\n",
       " '\\nNice\\n',\n",
       " \"\\nPrice wise it's totally good\\n\",\n",
       " '\\nBattery life is very short.\\n']"
      ]
     },
     "execution_count": 12,
     "metadata": {},
     "output_type": "execute_result"
    }
   ],
   "source": [
    "review_title = []\n",
    "for i in range(0, len(main)):\n",
    "    review_title.append(main[i].get_text())\n",
    "    \n",
    "review_title"
   ]
  },
  {
   "cell_type": "code",
   "execution_count": 13,
   "id": "59c7d175",
   "metadata": {},
   "outputs": [
    {
     "data": {
      "text/plain": [
       "['good but charging port in wrong face',\n",
       " 'The lil cable for “ charging “ it’s not working !',\n",
       " 'Good for home usage',\n",
       " 'Good',\n",
       " 'Okayish',\n",
       " 'Easy to use with awesome look',\n",
       " 'Touch is not working',\n",
       " 'Nice',\n",
       " \"Price wise it's totally good\",\n",
       " 'Battery life is very short.']"
      ]
     },
     "execution_count": 13,
     "metadata": {},
     "output_type": "execute_result"
    }
   ],
   "source": [
    "review_title_l = [main.strip('\\n') for main in review_title]\n",
    "review_title_l"
   ]
  },
  {
   "cell_type": "code",
   "execution_count": 14,
   "id": "852258d3",
   "metadata": {},
   "outputs": [
    {
     "data": {
      "text/html": [
       "<div>\n",
       "<style scoped>\n",
       "    .dataframe tbody tr th:only-of-type {\n",
       "        vertical-align: middle;\n",
       "    }\n",
       "\n",
       "    .dataframe tbody tr th {\n",
       "        vertical-align: top;\n",
       "    }\n",
       "\n",
       "    .dataframe thead th {\n",
       "        text-align: right;\n",
       "    }\n",
       "</style>\n",
       "<table border=\"1\" class=\"dataframe\">\n",
       "  <thead>\n",
       "    <tr style=\"text-align: right;\">\n",
       "      <th></th>\n",
       "      <th>Name</th>\n",
       "      <th>Review</th>\n",
       "    </tr>\n",
       "  </thead>\n",
       "  <tbody>\n",
       "    <tr>\n",
       "      <th>0</th>\n",
       "      <td>Cherry</td>\n",
       "      <td>good but charging port in wrong face</td>\n",
       "    </tr>\n",
       "    <tr>\n",
       "      <th>1</th>\n",
       "      <td>Yash</td>\n",
       "      <td>The lil cable for “ charging “ it’s not working !</td>\n",
       "    </tr>\n",
       "    <tr>\n",
       "      <th>2</th>\n",
       "      <td>Amazon customer..</td>\n",
       "      <td>Good for home usage</td>\n",
       "    </tr>\n",
       "    <tr>\n",
       "      <th>3</th>\n",
       "      <td>Komal thakur</td>\n",
       "      <td>Good</td>\n",
       "    </tr>\n",
       "    <tr>\n",
       "      <th>4</th>\n",
       "      <td>Rosy</td>\n",
       "      <td>Okayish</td>\n",
       "    </tr>\n",
       "    <tr>\n",
       "      <th>5</th>\n",
       "      <td>SIMA BEGAM</td>\n",
       "      <td>Easy to use with awesome look</td>\n",
       "    </tr>\n",
       "    <tr>\n",
       "      <th>6</th>\n",
       "      <td>Subrahmanyam Nilla</td>\n",
       "      <td>Touch is not working</td>\n",
       "    </tr>\n",
       "    <tr>\n",
       "      <th>7</th>\n",
       "      <td>AP</td>\n",
       "      <td>Nice</td>\n",
       "    </tr>\n",
       "    <tr>\n",
       "      <th>8</th>\n",
       "      <td>Riddhi</td>\n",
       "      <td>Price wise it's totally good</td>\n",
       "    </tr>\n",
       "    <tr>\n",
       "      <th>9</th>\n",
       "      <td>Anil Johney</td>\n",
       "      <td>Battery life is very short.</td>\n",
       "    </tr>\n",
       "  </tbody>\n",
       "</table>\n",
       "</div>"
      ],
      "text/plain": [
       "                 Name                                             Review\n",
       "0              Cherry               good but charging port in wrong face\n",
       "1                Yash  The lil cable for “ charging “ it’s not working !\n",
       "2   Amazon customer..                                Good for home usage\n",
       "3        Komal thakur                                               Good\n",
       "4                Rosy                                            Okayish\n",
       "5          SIMA BEGAM                      Easy to use with awesome look\n",
       "6  Subrahmanyam Nilla                               Touch is not working\n",
       "7                  AP                                               Nice\n",
       "8              Riddhi                       Price wise it's totally good\n",
       "9         Anil Johney                        Battery life is very short."
      ]
     },
     "execution_count": 14,
     "metadata": {},
     "output_type": "execute_result"
    }
   ],
   "source": [
    "df['Review'] = review_title_l\n",
    "df"
   ]
  },
  {
   "cell_type": "code",
   "execution_count": 15,
   "id": "74ec94cb",
   "metadata": {},
   "outputs": [
    {
     "data": {
      "text/plain": [
       "['Reviewed in India on 23 August 2022',\n",
       " 'Reviewed in India on 15 August 2022',\n",
       " 'Reviewed in India on 15 August 2022',\n",
       " 'Reviewed in India on 18 August 2022',\n",
       " 'Reviewed in India on 23 August 2022',\n",
       " 'Reviewed in India on 9 August 2022',\n",
       " 'Reviewed in India on 23 August 2022',\n",
       " 'Reviewed in India on 21 August 2022',\n",
       " 'Reviewed in India on 11 August 2022',\n",
       " 'Reviewed in India on 5 August 2022',\n",
       " 'Reviewed in India on 29 August 2022',\n",
       " 'Reviewed in India on 27 July 2022']"
      ]
     },
     "execution_count": 15,
     "metadata": {},
     "output_type": "execute_result"
    }
   ],
   "source": [
    "date=soup.find_all(class_=\"a-size-base a-color-secondary review-date\")\n",
    "d= []\n",
    "for i in range(0, len(date)):\n",
    "    d.append(date[i].get_text())\n",
    "    \n",
    "d"
   ]
  },
  {
   "cell_type": "code",
   "execution_count": 16,
   "id": "81f76b79",
   "metadata": {},
   "outputs": [
    {
     "data": {
      "text/plain": [
       "'Reviewed in India on 23 August 2022'"
      ]
     },
     "execution_count": 16,
     "metadata": {},
     "output_type": "execute_result"
    }
   ],
   "source": [
    "d.pop(0)"
   ]
  },
  {
   "cell_type": "code",
   "execution_count": 17,
   "id": "599a3bc4",
   "metadata": {},
   "outputs": [
    {
     "data": {
      "text/plain": [
       "'Reviewed in India on 15 August 2022'"
      ]
     },
     "execution_count": 17,
     "metadata": {},
     "output_type": "execute_result"
    }
   ],
   "source": [
    "d.pop(0)"
   ]
  },
  {
   "cell_type": "code",
   "execution_count": 18,
   "id": "7e4e1efd",
   "metadata": {},
   "outputs": [
    {
     "data": {
      "text/plain": [
       "['Reviewed in India on 15 August 2022',\n",
       " 'Reviewed in India on 18 August 2022',\n",
       " 'Reviewed in India on 23 August 2022',\n",
       " 'Reviewed in India on 9 August 2022',\n",
       " 'Reviewed in India on 23 August 2022',\n",
       " 'Reviewed in India on 21 August 2022',\n",
       " 'Reviewed in India on 11 August 2022',\n",
       " 'Reviewed in India on 5 August 2022',\n",
       " 'Reviewed in India on 29 August 2022',\n",
       " 'Reviewed in India on 27 July 2022']"
      ]
     },
     "execution_count": 18,
     "metadata": {},
     "output_type": "execute_result"
    }
   ],
   "source": [
    "d"
   ]
  },
  {
   "cell_type": "code",
   "execution_count": 37,
   "id": "be80c4d9",
   "metadata": {},
   "outputs": [
    {
     "data": {
      "text/html": [
       "<div>\n",
       "<style scoped>\n",
       "    .dataframe tbody tr th:only-of-type {\n",
       "        vertical-align: middle;\n",
       "    }\n",
       "\n",
       "    .dataframe tbody tr th {\n",
       "        vertical-align: top;\n",
       "    }\n",
       "\n",
       "    .dataframe thead th {\n",
       "        text-align: right;\n",
       "    }\n",
       "</style>\n",
       "<table border=\"1\" class=\"dataframe\">\n",
       "  <thead>\n",
       "    <tr style=\"text-align: right;\">\n",
       "      <th></th>\n",
       "      <th>Name</th>\n",
       "      <th>Review</th>\n",
       "      <th>Location and Date</th>\n",
       "    </tr>\n",
       "  </thead>\n",
       "  <tbody>\n",
       "    <tr>\n",
       "      <th>0</th>\n",
       "      <td>Cherry</td>\n",
       "      <td>good but charging port in wrong face</td>\n",
       "      <td>Reviewed in India on 15 August 2022</td>\n",
       "    </tr>\n",
       "    <tr>\n",
       "      <th>1</th>\n",
       "      <td>Yash</td>\n",
       "      <td>The lil cable for “ charging “ it’s not working !</td>\n",
       "      <td>Reviewed in India on 18 August 2022</td>\n",
       "    </tr>\n",
       "    <tr>\n",
       "      <th>2</th>\n",
       "      <td>Amazon customer..</td>\n",
       "      <td>Good for home usage</td>\n",
       "      <td>Reviewed in India on 23 August 2022</td>\n",
       "    </tr>\n",
       "    <tr>\n",
       "      <th>3</th>\n",
       "      <td>Komal thakur</td>\n",
       "      <td>Good</td>\n",
       "      <td>Reviewed in India on 9 August 2022</td>\n",
       "    </tr>\n",
       "    <tr>\n",
       "      <th>4</th>\n",
       "      <td>Rosy</td>\n",
       "      <td>Okayish</td>\n",
       "      <td>Reviewed in India on 23 August 2022</td>\n",
       "    </tr>\n",
       "    <tr>\n",
       "      <th>5</th>\n",
       "      <td>SIMA BEGAM</td>\n",
       "      <td>Easy to use with awesome look</td>\n",
       "      <td>Reviewed in India on 21 August 2022</td>\n",
       "    </tr>\n",
       "    <tr>\n",
       "      <th>6</th>\n",
       "      <td>Subrahmanyam Nilla</td>\n",
       "      <td>Touch is not working</td>\n",
       "      <td>Reviewed in India on 11 August 2022</td>\n",
       "    </tr>\n",
       "    <tr>\n",
       "      <th>7</th>\n",
       "      <td>AP</td>\n",
       "      <td>Nice</td>\n",
       "      <td>Reviewed in India on 5 August 2022</td>\n",
       "    </tr>\n",
       "    <tr>\n",
       "      <th>8</th>\n",
       "      <td>Riddhi</td>\n",
       "      <td>Price wise it's totally good</td>\n",
       "      <td>Reviewed in India on 29 August 2022</td>\n",
       "    </tr>\n",
       "    <tr>\n",
       "      <th>9</th>\n",
       "      <td>Anil Johney</td>\n",
       "      <td>Battery life is very short.</td>\n",
       "      <td>Reviewed in India on 27 July 2022</td>\n",
       "    </tr>\n",
       "  </tbody>\n",
       "</table>\n",
       "</div>"
      ],
      "text/plain": [
       "                 Name                                             Review  \\\n",
       "0              Cherry               good but charging port in wrong face   \n",
       "1                Yash  The lil cable for “ charging “ it’s not working !   \n",
       "2   Amazon customer..                                Good for home usage   \n",
       "3        Komal thakur                                               Good   \n",
       "4                Rosy                                            Okayish   \n",
       "5          SIMA BEGAM                      Easy to use with awesome look   \n",
       "6  Subrahmanyam Nilla                               Touch is not working   \n",
       "7                  AP                                               Nice   \n",
       "8              Riddhi                       Price wise it's totally good   \n",
       "9         Anil Johney                        Battery life is very short.   \n",
       "\n",
       "                     Location and Date  \n",
       "0  Reviewed in India on 15 August 2022  \n",
       "1  Reviewed in India on 18 August 2022  \n",
       "2  Reviewed in India on 23 August 2022  \n",
       "3   Reviewed in India on 9 August 2022  \n",
       "4  Reviewed in India on 23 August 2022  \n",
       "5  Reviewed in India on 21 August 2022  \n",
       "6  Reviewed in India on 11 August 2022  \n",
       "7   Reviewed in India on 5 August 2022  \n",
       "8  Reviewed in India on 29 August 2022  \n",
       "9    Reviewed in India on 27 July 2022  "
      ]
     },
     "execution_count": 37,
     "metadata": {},
     "output_type": "execute_result"
    }
   ],
   "source": [
    "df['Location and Date']=d\n",
    "df"
   ]
  },
  {
   "cell_type": "code",
   "execution_count": 39,
   "id": "c2970356",
   "metadata": {},
   "outputs": [],
   "source": []
  }
 ],
 "metadata": {
  "kernelspec": {
   "display_name": "Python 3 (ipykernel)",
   "language": "python",
   "name": "python3"
  },
  "language_info": {
   "codemirror_mode": {
    "name": "ipython",
    "version": 3
   },
   "file_extension": ".py",
   "mimetype": "text/x-python",
   "name": "python",
   "nbconvert_exporter": "python",
   "pygments_lexer": "ipython3",
   "version": "3.9.13"
  }
 },
 "nbformat": 4,
 "nbformat_minor": 5
}
